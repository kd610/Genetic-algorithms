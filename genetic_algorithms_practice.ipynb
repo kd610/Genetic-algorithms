{
 "cells": [
  {
   "cell_type": "code",
   "execution_count": 6,
   "metadata": {},
   "outputs": [],
   "source": [
    "import random\n",
    "import numpy as np\n",
    "def create_reference_solution(chromosome_length): \n",
    "    #Build an array with an equal mix of zero and ones\n",
    "    number_of_ones = int(chromosome_length / 2)\n",
    "    reference = np.zeros(chromosome_length)\n",
    "    reference[0: number_of_ones] = 1\n",
    "    np.random.shuffle(reference)\n",
    "    \n",
    "    return reference"
   ]
  },
  {
   "cell_type": "code",
   "execution_count": 7,
   "metadata": {},
   "outputs": [
    {
     "name": "stdout",
     "output_type": "stream",
     "text": [
      "[1. 1. 0. 1. 1. 0. 1. 1. 0. 0. 1. 1. 1. 0. 1. 0. 1. 1. 1. 0. 0. 1. 0. 0.\n",
      " 0. 1. 1. 1. 1. 1. 0. 0. 0. 1. 0. 0. 1. 0. 0. 0. 1. 0. 1. 1. 0. 0. 1. 0.\n",
      " 1. 0. 1. 1. 1. 1. 0. 0. 0. 0. 0. 0. 0. 1. 0. 1. 0. 0. 1. 0. 1. 1.]\n"
     ]
    }
   ],
   "source": [
    "print (create_reference_solution(70))"
   ]
  },
  {
   "cell_type": "code",
   "execution_count": 8,
   "metadata": {},
   "outputs": [],
   "source": [
    "def create_starting_population(individuals, chromosome_length): \n",
    "    # Set up an initial array of all zeros\n",
    "    population = np.zeros((individuals, chromosome_length))\n",
    "    # Loop through each row (individual)\n",
    "    for i in range(individuals):\n",
    "        # Choose a random number of ones to create \n",
    "        ones = random.randint(0, chromosome_length) \n",
    "        # Change the required number of zeros to ones \n",
    "        population[i, 0:ones] = 1\n",
    "        # Sfuffle row\n",
    "        np.random.shuffle(population[i])\n",
    "    \n",
    "    return population"
   ]
  },
  {
   "cell_type": "code",
   "execution_count": 9,
   "metadata": {},
   "outputs": [
    {
     "name": "stdout",
     "output_type": "stream",
     "text": [
      "[[1. 1. 1. 1. 0. 0. 0. 1. 1. 1.]\n",
      " [1. 1. 1. 1. 1. 0. 1. 0. 1. 0.]\n",
      " [0. 1. 0. 0. 0. 0. 0. 0. 0. 1.]\n",
      " [1. 0. 0. 1. 1. 0. 1. 0. 0. 1.]]\n"
     ]
    }
   ],
   "source": [
    "print (create_starting_population(4, 10))"
   ]
  },
  {
   "cell_type": "code",
   "execution_count": 10,
   "metadata": {},
   "outputs": [],
   "source": [
    "sample = create_starting_population(4, 10)"
   ]
  },
  {
   "cell_type": "code",
   "execution_count": 21,
   "metadata": {},
   "outputs": [],
   "source": [
    "def calculate_fitness(reference, population):\n",
    "    # Create an array of True/False compared to reference \n",
    "    identical_to_reference = population == reference\n",
    "    \n",
    "    #print(identical_to_reference)\n",
    "    # Sum number of genes that are identical to the reference\n",
    "    fitness_scores = identical_to_reference.sum(axis=1) \n",
    "    \n",
    "    return fitness_scores"
   ]
  },
  {
   "cell_type": "code",
   "execution_count": 22,
   "metadata": {},
   "outputs": [
    {
     "name": "stdout",
     "output_type": "stream",
     "text": [
      "Reference solution: \n",
      " [1. 0. 1. 0. 1. 0. 1. 0. 0. 1.]\n",
      "\n",
      "Starting population: \n",
      " [[1. 0. 0. 0. 0. 0. 0. 0. 0. 1.]\n",
      " [0. 1. 0. 0. 0. 0. 0. 0. 0. 0.]\n",
      " [0. 0. 0. 0. 0. 0. 0. 0. 1. 0.]\n",
      " [0. 1. 0. 1. 1. 1. 1. 1. 0. 1.]\n",
      " [1. 0. 1. 0. 0. 1. 0. 0. 0. 0.]\n",
      " [0. 1. 0. 1. 1. 1. 1. 0. 1. 0.]]\n",
      "\n",
      "Scores: \n",
      " [7 4 4 4 6 3]\n"
     ]
    }
   ],
   "source": [
    "reference = create_reference_solution(10)\n",
    "print ('Reference solution: \\n', reference) \n",
    "population = create_starting_population(6, 10) \n",
    "print ('\\nStarting population: \\n', population) \n",
    "scores = calculate_fitness(reference, population) \n",
    "print('\\nScores: \\n', scores)"
   ]
  },
  {
   "cell_type": "code",
   "execution_count": 23,
   "metadata": {},
   "outputs": [],
   "source": [
    "def select_individual_by_tournament(population, scores): \n",
    "    # Get population size\n",
    "    population_size = len(scores)\n",
    "    \n",
    "    # Pick individuals for tournament\n",
    "    fighter_1 = random.randint(0, population_size-1) \n",
    "    fighter_2 = random.randint(0, population_size-1)\n",
    "    \n",
    "    # Get fitness score for each \n",
    "    fighter_1_fitness = scores[fighter_1] \n",
    "    fighter_2_fitness = scores[fighter_2]\n",
    "    \n",
    "    # Identify undividual with highest fitness \n",
    "    # Fighter 1 will win if score are equal \n",
    "    if fighter_1_fitness >= fighter_2_fitness:\n",
    "        winner = fighter_1 \n",
    "    else:\n",
    "        winner = fighter_2\n",
    "    # Return the chromsome of the winner\n",
    "    \n",
    "    return population[winner, :]"
   ]
  },
  {
   "cell_type": "code",
   "execution_count": 24,
   "metadata": {},
   "outputs": [
    {
     "name": "stdout",
     "output_type": "stream",
     "text": [
      "[0. 0. 1. 1. 1. 1. 1. 1. 1. 0.]\n",
      "[0. 0. 1. 1. 1. 1. 1. 1. 1. 0.]\n"
     ]
    }
   ],
   "source": [
    "# Set up and score population\n",
    "reference = create_reference_solution(10) \n",
    "population = create_starting_population(6, 10) \n",
    "scores = calculate_fitness(reference, population)\n",
    "\n",
    "# Pick two parents and dispplay\n",
    "parent_1 = select_individual_by_tournament(population, scores) \n",
    "parent_2 = select_individual_by_tournament(population, scores) \n",
    "print (parent_1)\n",
    "print (parent_2)"
   ]
  },
  {
   "cell_type": "code",
   "execution_count": 25,
   "metadata": {},
   "outputs": [],
   "source": [
    "def breed_by_crossover(parent_1, parent_2): \n",
    "    # Get length of chromosome \n",
    "    chromosome_length = len(parent_1)\n",
    "    \n",
    "    # Pick crossover point, avoding ends of chromsome\n",
    "    crossover_point = random.randint(1,chromosome_length-1)\n",
    "    \n",
    "    # Create children. np.hstack joins two arrays \n",
    "    child_1 = np.hstack((parent_1[0:crossover_point],\n",
    "                    parent_2[crossover_point:]))\n",
    "    child_2 = np.hstack((parent_2[0:crossover_point], parent_1[crossover_point:]))\n",
    "    \n",
    "    # Return children\n",
    "    return child_1, child_2"
   ]
  },
  {
   "cell_type": "code",
   "execution_count": 26,
   "metadata": {},
   "outputs": [
    {
     "name": "stdout",
     "output_type": "stream",
     "text": [
      "Parents\n",
      "[1. 1. 1. 1. 0. 0. 1. 1. 1. 1. 1. 1. 0. 1. 1.]\n",
      "[1. 1. 1. 0. 1. 1. 1. 1. 1. 1. 1. 1. 0. 1. 0.]\n",
      "Children\n",
      "[1. 1. 1. 1. 1. 1. 1. 1. 1. 1. 1. 1. 0. 1. 0.]\n",
      "[1. 1. 1. 0. 0. 0. 1. 1. 1. 1. 1. 1. 0. 1. 1.]\n"
     ]
    }
   ],
   "source": [
    "# Set up and score population\n",
    "reference = create_reference_solution(15) \n",
    "population = create_starting_population(100, 15) \n",
    "scores = calculate_fitness(reference, population)\n",
    "\n",
    "# Pick two parents and dispplay\n",
    "parent_1 = select_individual_by_tournament(population, scores) \n",
    "parent_2 = select_individual_by_tournament(population, scores)\n",
    "\n",
    "# Get children\n",
    "child_1, child_2 = breed_by_crossover(parent_1, parent_2)\n",
    "# Show output \n",
    "print ('Parents') \n",
    "print (parent_1) \n",
    "print (parent_2) \n",
    "print ('Children') \n",
    "print (child_1) \n",
    "print (child_2)"
   ]
  },
  {
   "cell_type": "code",
   "execution_count": 43,
   "metadata": {},
   "outputs": [],
   "source": [
    "def randomly_mutate_population(population, mutation_probability):\n",
    "    # Apply random mutation \n",
    "    random_mutation_array = np.random.random(size=(population.shape))\n",
    "    \n",
    "    #Trun below mutation_probability value into False, otherwise True\n",
    "    random_mutation_boolean = random_mutation_array <= mutation_probability\n",
    "    \n",
    "    #Mutate True value (0 to 1 or 1 to 0)\n",
    "    population[random_mutation_boolean] = np.logical_not(population[random_mutation_boolean])\n",
    "    \n",
    "    # Return mutation population\n",
    "    return population"
   ]
  },
  {
   "cell_type": "code",
   "execution_count": 44,
   "metadata": {},
   "outputs": [
    {
     "name": "stdout",
     "output_type": "stream",
     "text": [
      "Population before mutation\n",
      "[[0. 0. 0. 0. 0. 0. 0. 1. 1. 0. 0. 0. 0. 0. 0.]\n",
      " [1. 1. 0. 1. 1. 0. 0. 0. 0. 0. 0. 0. 0. 0. 0.]]\n",
      "Population after mutation\n",
      "[[0. 0. 1. 0. 0. 0. 0. 0. 0. 0. 0. 0. 0. 0. 1.]\n",
      " [0. 1. 0. 1. 0. 0. 0. 1. 1. 0. 0. 0. 0. 0. 0.]]\n"
     ]
    }
   ],
   "source": [
    "# Set up and score population\n",
    "reference = create_reference_solution(15) \n",
    "population = create_starting_population(100, 15) \n",
    "scores = calculate_fitness(reference, population)\n",
    "\n",
    "# Pick two parents and display\n",
    "parent_1 = select_individual_by_tournament(population, scores) \n",
    "parent_2 = select_individual_by_tournament(population, scores)\n",
    "\n",
    "# Get children and make new population\n",
    "child_1, child_2 = breed_by_crossover(parent_1, parent_2) \n",
    "population = np.stack((child_1, child_2))\n",
    "\n",
    "# Mutate population\n",
    "mutation_probability = 0.25\n",
    "print (\"Population before mutation\")\n",
    "print (population)\n",
    "population = randomly_mutate_population(population, mutation_probability) \n",
    "print (\"Population after mutation\")\n",
    "print (population)"
   ]
  },
  {
   "cell_type": "code",
   "execution_count": 47,
   "metadata": {},
   "outputs": [
    {
     "name": "stdout",
     "output_type": "stream",
     "text": [
      "Starting best score, percent target: 64.0\n",
      "End best score, percent target: 100.0\n"
     ]
    },
    {
     "data": {
      "image/png": "[encoded data removed]",
      "text/plain": [
       "<Figure size 432x288 with 1 Axes>"
      ]
     },
     "metadata": {
      "needs_background": "light"
     },
     "output_type": "display_data"
    }
   ],
   "source": [
    "# Set general parameters \n",
    "chromosome_length = 75\n",
    "population_size = 500\n",
    "maximum_generation = 200 \n",
    "\n",
    "best_score_progress = [] # Tracks progress\n",
    "\n",
    "# Create reference solution\n",
    "# (this is used just to illustrate GAs)\n",
    "reference = create_reference_solution(chromosome_length)\n",
    "\n",
    "# Create starting population\n",
    "population = create_starting_population(population_size, chromosome_length)\n",
    "\n",
    "# Display best score in starting population\n",
    "scores = calculate_fitness(reference, population)\n",
    "best_score = np.max(scores)/chromosome_length * 100\n",
    "print ('Starting best score, percent target: %.1f' %best_score)\n",
    "\n",
    "# Add starting best score to progress tracker \n",
    "best_score_progress.append(best_score)\n",
    "# Now we'll go through the generations of genetic algorithm \n",
    "for generation in range(maximum_generation):\n",
    "    # Create an empty list for new population \n",
    "    new_population = []\n",
    "    \n",
    "    # Create new popualtion generating two children at a time\n",
    "    \n",
    "    for i in range(int(population_size/2)):\n",
    "        parent_1 = select_individual_by_tournament(population, scores) \n",
    "        parent_2 = select_individual_by_tournament(population, scores) \n",
    "        child_1, child_2 = breed_by_crossover(parent_1, parent_2) \n",
    "        new_population.append(child_1)\n",
    "        new_population.append(child_2)\n",
    "    \n",
    "    # Replace the old population with the new one \n",
    "    population = np.array(new_population)\n",
    "    \n",
    "    # Apply mutation\n",
    "    mutation_rate = 0.002\n",
    "    population = randomly_mutate_population(population, mutation_rate)\n",
    "    \n",
    "    # Score best solution, and add to tracker\n",
    "    scores = calculate_fitness(reference, population) \n",
    "    best_score = np.max(scores)/chromosome_length * 100 \n",
    "    best_score_progress.append(best_score)\n",
    "    \n",
    "# GA has completed required generation\n",
    "print ('End best score, percent target: %.1f' %best_score)\n",
    "# Plot progress\n",
    "import matplotlib.pyplot as plt \n",
    "%matplotlib inline\n",
    "plt.plot(best_score_progress)\n",
    "plt.xlabel('Generation') \n",
    "plt.ylabel('Best score (% target)') \n",
    "plt.show()"
   ]
  },
  {
   "cell_type": "code",
   "execution_count": null,
   "metadata": {},
   "outputs": [],
   "source": []
  }
 ],
 "metadata": {
  "kernelspec": {
   "display_name": "Python 3",
   "language": "python",
   "name": "python3"
  },
  "language_info": {
   "codemirror_mode": {
    "name": "ipython",
    "version": 3
   },
   "file_extension": ".py",
   "mimetype": "text/x-python",
   "name": "python",
   "nbconvert_exporter": "python",
   "pygments_lexer": "ipython3",
   "version": "3.7.4"
  }
 },
 "nbformat": 4,
 "nbformat_minor": 2
}
